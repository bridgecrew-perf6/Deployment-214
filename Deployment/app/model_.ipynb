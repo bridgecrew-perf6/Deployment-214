{
 "cells": [
  {
   "cell_type": "code",
   "execution_count": null,
   "metadata": {},
   "outputs": [
    {
     "name": "stdout",
     "output_type": "stream",
     "text": [
      "Train on 60000 samples, validate on 10000 samples\n",
      "Epoch 1/75\n",
      "60000/60000 - 16s - loss: 2.3022 - accuracy: 0.1239 - val_loss: 2.2800 - val_accuracy: 0.1242\n",
      "Epoch 2/75\n",
      "60000/60000 - 15s - loss: 2.2800 - accuracy: 0.1246 - val_loss: 2.2174 - val_accuracy: 0.2078\n",
      "Epoch 3/75\n",
      "60000/60000 - 17s - loss: 2.2174 - accuracy: 0.2063 - val_loss: 2.1102 - val_accuracy: 0.2585\n",
      "Epoch 4/75\n",
      "60000/60000 - 15s - loss: 2.1114 - accuracy: 0.2663 - val_loss: 1.9601 - val_accuracy: 0.3163\n",
      "Epoch 5/75\n",
      "60000/60000 - 15s - loss: 1.9653 - accuracy: 0.3133 - val_loss: 1.8341 - val_accuracy: 0.4028\n",
      "Epoch 6/75\n",
      "60000/60000 - 15s - loss: 1.8423 - accuracy: 0.4002 - val_loss: 1.7770 - val_accuracy: 0.4132\n",
      "Epoch 7/75\n",
      "60000/60000 - 13s - loss: 1.7864 - accuracy: 0.4098 - val_loss: 1.7082 - val_accuracy: 0.4500\n",
      "Epoch 8/75\n",
      "60000/60000 - 14s - loss: 1.7215 - accuracy: 0.4508 - val_loss: 1.6226 - val_accuracy: 0.4618\n",
      "Epoch 9/75\n",
      "60000/60000 - 14s - loss: 1.6319 - accuracy: 0.4618 - val_loss: 1.5493 - val_accuracy: 0.4485\n",
      "Epoch 10/75\n",
      "60000/60000 - 15s - loss: 1.5587 - accuracy: 0.4498 - val_loss: 1.4330 - val_accuracy: 0.5999\n",
      "Epoch 11/75\n",
      "60000/60000 - 15s - loss: 1.4499 - accuracy: 0.5927 - val_loss: 1.4630 - val_accuracy: 0.5803\n",
      "Epoch 12/75\n",
      "60000/60000 - 14s - loss: 1.4803 - accuracy: 0.5621 - val_loss: 1.3735 - val_accuracy: 0.6544\n",
      "Epoch 13/75\n",
      "60000/60000 - 20s - loss: 1.3881 - accuracy: 0.6460 - val_loss: 1.3300 - val_accuracy: 0.6771\n",
      "Epoch 14/75\n",
      "60000/60000 - 15s - loss: 1.3390 - accuracy: 0.6707 - val_loss: 1.3352 - val_accuracy: 0.6322\n",
      "Epoch 15/75\n",
      "60000/60000 - 15s - loss: 1.3437 - accuracy: 0.6288 - val_loss: 1.2776 - val_accuracy: 0.6321\n",
      "Epoch 16/75\n",
      "60000/60000 - 13s - loss: 1.2882 - accuracy: 0.6263 - val_loss: 1.2352 - val_accuracy: 0.5949\n",
      "Epoch 17/75\n"
     ]
    }
   ],
   "source": [
    "import tensorflow\n",
    "from tensorflow.keras.datasets import mnist\n",
    "from tensorflow.keras.layers import Conv2D, MaxPool2D, Flatten\n",
    "from tensorflow.keras.models import Sequential, load_model\n",
    "from tensorflow.keras.utils import to_categorical\n",
    "import pickle\n",
    "import numpy as np\n",
    "\n",
    "(x_train,y_train),(x_test,y_test) = mnist.load_data()\n",
    "\n",
    "x_train = x_train.reshape(x_train.shape[0],1,28,28)\n",
    "x_test = x_test.reshape(x_test.shape[0],1,28,28)\n",
    "x_train = x_train.astype('float32')\n",
    "x_test = x_test.astype('float32')\n",
    "x_train /= 255\n",
    "x_test /= 255\n",
    "y_train = to_categorical(y_train,10)\n",
    "y_test = to_categorical(y_test,10)\n",
    "\n",
    "model = Sequential()\n",
    "\n",
    "model.add(Conv2D(8,kernel_size = 3 , padding = 'same', activation = 'relu',input_shape=(1,28,28)))\n",
    "model.add(MaxPool2D(pool_size = (2,2),padding='same'))\n",
    "model.add(Conv2D(64,kernel_size = 3 , padding = 'same', activation = 'relu'))\n",
    "model.add(MaxPool2D(pool_size = (2,2),padding='same'))\n",
    "model.add(Conv2D(128,kernel_size = 3 , padding = 'same', activation = 'relu'))\n",
    "model.add(MaxPool2D(pool_size = (2,2),padding='same'))\n",
    "model.add(Conv2D(10,kernel_size = 3 , padding = 'same', activation = 'softmax'))\n",
    "model.add(MaxPool2D(pool_size = (4,4),padding='same'))\n",
    "model.add(Flatten())\n",
    "\n",
    "model.compile(loss = 'categorical_crossentropy',optimizer=tensorflow.keras.optimizers.Adam(learning_rate=0.01),\n",
    "              metrics = ['accuracy'])\n",
    "\n",
    "model.fit(x_train,y_train,batch_size=60000,epochs = 75,steps_per_epoch = 1,validation_data=(x_test,y_test),verbose = 2,#\n",
    "         validation_steps=1)\n",
    "model.load_weights(\"model.h5\")\n"
   ]
  },
  {
   "cell_type": "code",
   "execution_count": 3,
   "metadata": {},
   "outputs": [
    {
     "ename": "NameError",
     "evalue": "name 'img' is not defined",
     "output_type": "error",
     "traceback": [
      "\u001b[0;31m---------------------------------------------------------------------------\u001b[0m",
      "\u001b[0;31mNameError\u001b[0m                                 Traceback (most recent call last)",
      "\u001b[0;32m<ipython-input-3-e4a8798b329c>\u001b[0m in \u001b[0;36m<module>\u001b[0;34m\u001b[0m\n\u001b[0;32m----> 1\u001b[0;31m \u001b[0mimg\u001b[0m \u001b[0;34m=\u001b[0m \u001b[0mnp\u001b[0m\u001b[0;34m.\u001b[0m\u001b[0mexpand_dims\u001b[0m\u001b[0;34m(\u001b[0m\u001b[0mimg\u001b[0m\u001b[0;34m,\u001b[0m\u001b[0maxis\u001b[0m\u001b[0;34m=\u001b[0m\u001b[0;36m0\u001b[0m\u001b[0;34m)\u001b[0m\u001b[0;34m\u001b[0m\u001b[0m\n\u001b[0m\u001b[1;32m      2\u001b[0m \u001b[0mimg_class\u001b[0m \u001b[0;34m=\u001b[0m \u001b[0mmodel\u001b[0m\u001b[0;34m.\u001b[0m\u001b[0mpredict_classes\u001b[0m\u001b[0;34m(\u001b[0m\u001b[0mimg\u001b[0m\u001b[0;34m)\u001b[0m\u001b[0;34m\u001b[0m\u001b[0m\n\u001b[1;32m      3\u001b[0m \u001b[0mprediction\u001b[0m \u001b[0;34m=\u001b[0m \u001b[0mimg_class\u001b[0m\u001b[0;34m[\u001b[0m\u001b[0;36m0\u001b[0m\u001b[0;34m]\u001b[0m\u001b[0;34m\u001b[0m\u001b[0m\n\u001b[1;32m      4\u001b[0m \u001b[0mclassname\u001b[0m \u001b[0;34m=\u001b[0m \u001b[0mimg_class\u001b[0m\u001b[0;34m[\u001b[0m\u001b[0;36m0\u001b[0m\u001b[0;34m]\u001b[0m\u001b[0;34m\u001b[0m\u001b[0m\n\u001b[1;32m      5\u001b[0m \u001b[0mprint\u001b[0m\u001b[0;34m(\u001b[0m\u001b[0;34m\"Class: \"\u001b[0m\u001b[0;34m,\u001b[0m\u001b[0mclassname\u001b[0m\u001b[0;34m)\u001b[0m\u001b[0;34m\u001b[0m\u001b[0m\n",
      "\u001b[0;31mNameError\u001b[0m: name 'img' is not defined"
     ]
    }
   ],
   "source": [
    "img = np.expand_dims(img,axis=0)\n",
    "img_class = model.predict_classes(img)\n",
    "prediction = img_class[0]\n",
    "classname = img_class[0]\n",
    "print(\"Class: \",classname)\n",
    "model.save('./model.h5')"
   ]
  },
  {
   "cell_type": "code",
   "execution_count": null,
   "metadata": {},
   "outputs": [],
   "source": [
    "deploy_model = load_model('./model.h5',compile=True)"
   ]
  }
 ],
 "metadata": {
  "kernelspec": {
   "display_name": "Python 3",
   "language": "python",
   "name": "python3"
  },
  "language_info": {
   "codemirror_mode": {
    "name": "ipython",
    "version": 3
   },
   "file_extension": ".py",
   "mimetype": "text/x-python",
   "name": "python",
   "nbconvert_exporter": "python",
   "pygments_lexer": "ipython3",
   "version": "3.6.4"
  }
 },
 "nbformat": 4,
 "nbformat_minor": 2
}
